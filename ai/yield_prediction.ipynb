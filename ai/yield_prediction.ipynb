{
 "cells": [
  {
   "cell_type": "code",
   "execution_count": 22,
   "id": "8b326869",
   "metadata": {},
   "outputs": [
    {
     "name": "stdout",
     "output_type": "stream",
     "text": [
      "Dummy yield_data.csv created successfully.\n",
      "Model trained successfully.\n",
      "Model saved at ./backend/models/yield_model.pkl\n",
      "Predicted yield for test input: 116.0\n"
     ]
    }
   ],
   "source": [
    "# farmiq_yield.py\n",
    "import pandas as pd\n",
    "from sklearn.linear_model import LinearRegression\n",
    "import joblib\n",
    "import os\n",
    "\n",
    "# Step 1: Create dummy dataset if it doesn't exist\n",
    "os.makedirs('./data', exist_ok=True)\n",
    "csv_path = './data/yield_data.csv'\n",
    "\n",
    "if not os.path.exists(csv_path):\n",
    "    data = pd.DataFrame({\n",
    "        'soil_moisture': [20, 30, 25, 35, 40],\n",
    "        'temperature': [25, 27, 26, 28, 30],\n",
    "        'humidity': [60, 65, 63, 70, 68],\n",
    "        'yield': [100, 120, 110, 130, 140]\n",
    "    })\n",
    "    data.to_csv(csv_path, index=False)\n",
    "    print(\"Dummy yield_data.csv created successfully.\")\n",
    "else:\n",
    "    print(\"Dataset already exists. Loading it...\")\n",
    "\n",
    "# Step 2: Load dataset\n",
    "data = pd.read_csv(csv_path)\n",
    "\n",
    "# Step 3: Features and target\n",
    "X = data[['soil_moisture', 'temperature', 'humidity']]\n",
    "y = data['yield']\n",
    "\n",
    "# Step 4: Train Linear Regression model\n",
    "model = LinearRegression()\n",
    "model.fit(X, y)\n",
    "print(\"Model trained successfully.\")\n",
    "\n",
    "# Step 5: Save the model\n",
    "os.makedirs('./backend/models', exist_ok=True)\n",
    "model_path = './backend/models/yield_model.pkl'\n",
    "joblib.dump(model, model_path)\n",
    "print(f\"Model saved at {model_path}\")\n",
    "\n",
    "# Step 6: Test prediction\n",
    "test_input = pd.DataFrame({\n",
    "    'soil_moisture': [28],\n",
    "    'temperature': [27],\n",
    "    'humidity': [65]\n",
    "})\n",
    "predicted_yield = model.predict(test_input)\n",
    "print(\"Predicted yield for test input:\", predicted_yield[0])\n"
   ]
  }
 ],
 "metadata": {
  "kernelspec": {
   "display_name": ".venv",
   "language": "python",
   "name": "python3"
  },
  "language_info": {
   "codemirror_mode": {
    "name": "ipython",
    "version": 3
   },
   "file_extension": ".py",
   "mimetype": "text/x-python",
   "name": "python",
   "nbconvert_exporter": "python",
   "pygments_lexer": "ipython3",
   "version": "3.13.4"
  }
 },
 "nbformat": 4,
 "nbformat_minor": 5
}
